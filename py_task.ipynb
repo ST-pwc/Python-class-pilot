{
 "cells": [
  {
   "cell_type": "code",
   "execution_count": 82,
   "id": "5b291e17",
   "metadata": {},
   "outputs": [],
   "source": [
    "import pandas as pd\n",
    "import numpy as np"
   ]
  },
  {
   "cell_type": "code",
   "execution_count": 83,
   "id": "c06989f6",
   "metadata": {},
   "outputs": [
    {
     "name": "stdout",
     "output_type": "stream",
     "text": [
      "    region       date                        name comment\n",
      "0      ACT 2014-01-01               New Years Day    None\n",
      "1      ACT 2014-01-27           Australia Day Sub    None\n",
      "2      ACT 2014-03-10            Canberra Day -RD    None\n",
      "3      ACT 2014-04-18                 Good Friday    None\n",
      "4      ACT 2014-04-19             Easter Saturday    None\n",
      "..     ...        ...                         ...     ...\n",
      "770     WA 2022-12-25               Christmas Day    None\n",
      "771     WA 2022-12-26                  Boxing Day    None\n",
      "772     WA 2022-12-27  Christmas (additional day)    None\n",
      "773    NSW 2020-04-13                  Easter MON    None\n",
      "774    VIC 2019-12-25               Christmas Day    None\n",
      "\n",
      "[775 rows x 4 columns]\n"
     ]
    }
   ],
   "source": [
    "df = pd.read_excel(\"messy_phol.xlsx\")\n",
    "print(df)"
   ]
  },
  {
   "cell_type": "code",
   "execution_count": 84,
   "id": "dc662a8f",
   "metadata": {},
   "outputs": [
    {
     "name": "stdout",
     "output_type": "stream",
     "text": [
      "    region       date                         name comment  \\\n",
      "68     ACT 2019-01-28            Australia Day Sub    None   \n",
      "69     ACT 2019-03-11             Canberra Day -RD    None   \n",
      "70     ACT 2019-04-19         Good Friday - type b    None   \n",
      "71     ACT 2019-04-20              Easter Saturday    None   \n",
      "72     ACT 2019-04-21                Easter Sunday    None   \n",
      "..     ...        ...                          ...     ...   \n",
      "676     WA 2021-12-26                   Boxing Day    None   \n",
      "677     WA 2021-12-27   Christmas (additional day)    None   \n",
      "678     WA 2021-12-28  Boxing Day (additional day)    None   \n",
      "773    NSW 2020-04-13                   Easter MON    None   \n",
      "774    VIC 2019-12-25                Christmas Day    None   \n",
      "\n",
      "    public_holiday_date public_holiday_start  public_holiday_end  \n",
      "68           2019-01-28           2019-01-28 2019-01-28 23:59:59  \n",
      "69           2019-03-11           2019-03-11 2019-03-11 23:59:59  \n",
      "70           2019-04-19           2019-04-19 2019-04-19 23:59:59  \n",
      "71           2019-04-20           2019-04-20 2019-04-20 23:59:59  \n",
      "72           2019-04-21           2019-04-21 2019-04-21 23:59:59  \n",
      "..                  ...                  ...                 ...  \n",
      "676          2021-12-26           2021-12-26 2021-12-26 23:59:59  \n",
      "677          2021-12-27           2021-12-27 2021-12-27 23:59:59  \n",
      "678          2021-12-28           2021-12-28 2021-12-28 23:59:59  \n",
      "773          2020-04-13           2020-04-13 2020-04-13 23:59:59  \n",
      "774          2019-12-25           2019-12-25 2019-12-25 23:59:59  \n",
      "\n",
      "[249 rows x 7 columns]\n"
     ]
    }
   ],
   "source": [
    "df = df[(df['date'] > '2019-01-01') & (df['date'] < '2021-12-31')]\n",
    "\n",
    "df[\"public_holiday_date\"] = pd.to_datetime(df[\"date\"].dt.strftime('%Y-%m-%d'))\n",
    "df[\"public_holiday_start\"] = pd.to_datetime(df[\"date\"].dt.strftime('%Y-%m-%d %H:%M:%S'))\n",
    "df[\"public_holiday_end\"] = pd.to_datetime((df[\"date\"] + pd.Timedelta(days=1) - pd.Timedelta(seconds=1)).dt.strftime('%Y-%m-%d %H:%M:%S'))\n",
    "print(df)\n"
   ]
  },
  {
   "cell_type": "code",
   "execution_count": 85,
   "id": "1dea55d6",
   "metadata": {},
   "outputs": [
    {
     "name": "stdout",
     "output_type": "stream",
     "text": [
      "region                          object\n",
      "date                    datetime64[ns]\n",
      "name                            object\n",
      "comment                         object\n",
      "public_holiday_date     datetime64[ns]\n",
      "public_holiday_start    datetime64[ns]\n",
      "public_holiday_end      datetime64[ns]\n",
      "dtype: object\n"
     ]
    }
   ],
   "source": [
    "print(df.dtypes)\n",
    "df['public_holiday_start'] = np.where(((df.region == \"SA\") | \n",
    "       (df.region == \"NT\")) & \n",
    "       ((df.name == \"Christmas Eve\") |\n",
    "       (df.name == \"New Years Eve\")),\n",
    "                                    df['public_holiday_start'] + pd.Timedelta(hours=7),\n",
    "                                    df['public_holiday_start'] )\n",
    "# df.loc[((df.region == \"SA\") | \n",
    "#        (df.region == \"NT\")) & \n",
    "#        ((df.name == \"Christmas Eve\") |\n",
    "#        (df.name == \"New Years Eve\")), 'public_holiday_start'] = df['public_holiday_start'] + pd.Timedelta(hours=7)"
   ]
  },
  {
   "cell_type": "code",
   "execution_count": null,
   "id": "c9fa8446",
   "metadata": {},
   "outputs": [],
   "source": []
  }
 ],
 "metadata": {
  "kernelspec": {
   "display_name": "Python 3 (ipykernel)",
   "language": "python",
   "name": "python3"
  },
  "language_info": {
   "codemirror_mode": {
    "name": "ipython",
    "version": 3
   },
   "file_extension": ".py",
   "mimetype": "text/x-python",
   "name": "python",
   "nbconvert_exporter": "python",
   "pygments_lexer": "ipython3",
   "version": "3.10.2"
  }
 },
 "nbformat": 4,
 "nbformat_minor": 5
}
